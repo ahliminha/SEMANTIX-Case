{
  "nbformat": 4,
  "nbformat_minor": 0,
  "metadata": {
    "colab": {
      "name": "Semantix Case",
      "provenance": [],
      "collapsed_sections": [],
      "toc_visible": true
    },
    "kernelspec": {
      "name": "python3",
      "display_name": "Python 3"
    }
  },
  "cells": [
    {
      "cell_type": "markdown",
      "metadata": {
        "id": "6nT2KUoMd1bh",
        "colab_type": "text"
      },
      "source": [
        "# Case SEMANTIX - Lucas Costa e Lima\n",
        "lucascosta816@gmail.com\n"
      ]
    },
    {
      "cell_type": "code",
      "metadata": {
        "id": "GQpjqT0p-esc",
        "colab_type": "code",
        "colab": {}
      },
      "source": [
        "import matplotlib.pyplot as plt \n",
        "import numpy as np\n",
        "import pandas as pd\n",
        "import seaborn as sns\n",
        "from sklearn.preprocessing import OneHotEncoder, LabelEncoder"
      ],
      "execution_count": 0,
      "outputs": []
    },
    {
      "cell_type": "code",
      "metadata": {
        "id": "zphFp33b-_nj",
        "colab_type": "code",
        "colab": {}
      },
      "source": [
        "bank_data = pd.read_csv(\"/content/bank-full.csv\", sep=\";\")"
      ],
      "execution_count": 0,
      "outputs": []
    },
    {
      "cell_type": "code",
      "metadata": {
        "id": "sNzo1eGQI4o8",
        "colab_type": "code",
        "outputId": "3f100a7c-cc4e-4519-8e67-8318261ab32f",
        "colab": {
          "base_uri": "https://localhost:8080/",
          "height": 206
        }
      },
      "source": [
        "bank_data.head()"
      ],
      "execution_count": 0,
      "outputs": [
        {
          "output_type": "execute_result",
          "data": {
            "text/html": [
              "<div>\n",
              "<style scoped>\n",
              "    .dataframe tbody tr th:only-of-type {\n",
              "        vertical-align: middle;\n",
              "    }\n",
              "\n",
              "    .dataframe tbody tr th {\n",
              "        vertical-align: top;\n",
              "    }\n",
              "\n",
              "    .dataframe thead th {\n",
              "        text-align: right;\n",
              "    }\n",
              "</style>\n",
              "<table border=\"1\" class=\"dataframe\">\n",
              "  <thead>\n",
              "    <tr style=\"text-align: right;\">\n",
              "      <th></th>\n",
              "      <th>age</th>\n",
              "      <th>job</th>\n",
              "      <th>marital</th>\n",
              "      <th>education</th>\n",
              "      <th>default</th>\n",
              "      <th>balance</th>\n",
              "      <th>housing</th>\n",
              "      <th>loan</th>\n",
              "      <th>contact</th>\n",
              "      <th>day</th>\n",
              "      <th>month</th>\n",
              "      <th>duration</th>\n",
              "      <th>campaign</th>\n",
              "      <th>pdays</th>\n",
              "      <th>previous</th>\n",
              "      <th>poutcome</th>\n",
              "      <th>y</th>\n",
              "    </tr>\n",
              "  </thead>\n",
              "  <tbody>\n",
              "    <tr>\n",
              "      <th>0</th>\n",
              "      <td>58</td>\n",
              "      <td>management</td>\n",
              "      <td>married</td>\n",
              "      <td>tertiary</td>\n",
              "      <td>no</td>\n",
              "      <td>2143</td>\n",
              "      <td>yes</td>\n",
              "      <td>no</td>\n",
              "      <td>unknown</td>\n",
              "      <td>5</td>\n",
              "      <td>may</td>\n",
              "      <td>261</td>\n",
              "      <td>1</td>\n",
              "      <td>-1</td>\n",
              "      <td>0</td>\n",
              "      <td>unknown</td>\n",
              "      <td>no</td>\n",
              "    </tr>\n",
              "    <tr>\n",
              "      <th>1</th>\n",
              "      <td>44</td>\n",
              "      <td>technician</td>\n",
              "      <td>single</td>\n",
              "      <td>secondary</td>\n",
              "      <td>no</td>\n",
              "      <td>29</td>\n",
              "      <td>yes</td>\n",
              "      <td>no</td>\n",
              "      <td>unknown</td>\n",
              "      <td>5</td>\n",
              "      <td>may</td>\n",
              "      <td>151</td>\n",
              "      <td>1</td>\n",
              "      <td>-1</td>\n",
              "      <td>0</td>\n",
              "      <td>unknown</td>\n",
              "      <td>no</td>\n",
              "    </tr>\n",
              "    <tr>\n",
              "      <th>2</th>\n",
              "      <td>33</td>\n",
              "      <td>entrepreneur</td>\n",
              "      <td>married</td>\n",
              "      <td>secondary</td>\n",
              "      <td>no</td>\n",
              "      <td>2</td>\n",
              "      <td>yes</td>\n",
              "      <td>yes</td>\n",
              "      <td>unknown</td>\n",
              "      <td>5</td>\n",
              "      <td>may</td>\n",
              "      <td>76</td>\n",
              "      <td>1</td>\n",
              "      <td>-1</td>\n",
              "      <td>0</td>\n",
              "      <td>unknown</td>\n",
              "      <td>no</td>\n",
              "    </tr>\n",
              "    <tr>\n",
              "      <th>3</th>\n",
              "      <td>47</td>\n",
              "      <td>blue-collar</td>\n",
              "      <td>married</td>\n",
              "      <td>unknown</td>\n",
              "      <td>no</td>\n",
              "      <td>1506</td>\n",
              "      <td>yes</td>\n",
              "      <td>no</td>\n",
              "      <td>unknown</td>\n",
              "      <td>5</td>\n",
              "      <td>may</td>\n",
              "      <td>92</td>\n",
              "      <td>1</td>\n",
              "      <td>-1</td>\n",
              "      <td>0</td>\n",
              "      <td>unknown</td>\n",
              "      <td>no</td>\n",
              "    </tr>\n",
              "    <tr>\n",
              "      <th>4</th>\n",
              "      <td>33</td>\n",
              "      <td>unknown</td>\n",
              "      <td>single</td>\n",
              "      <td>unknown</td>\n",
              "      <td>no</td>\n",
              "      <td>1</td>\n",
              "      <td>no</td>\n",
              "      <td>no</td>\n",
              "      <td>unknown</td>\n",
              "      <td>5</td>\n",
              "      <td>may</td>\n",
              "      <td>198</td>\n",
              "      <td>1</td>\n",
              "      <td>-1</td>\n",
              "      <td>0</td>\n",
              "      <td>unknown</td>\n",
              "      <td>no</td>\n",
              "    </tr>\n",
              "  </tbody>\n",
              "</table>\n",
              "</div>"
            ],
            "text/plain": [
              "   age           job  marital  education  ... pdays  previous poutcome   y\n",
              "0   58    management  married   tertiary  ...    -1         0  unknown  no\n",
              "1   44    technician   single  secondary  ...    -1         0  unknown  no\n",
              "2   33  entrepreneur  married  secondary  ...    -1         0  unknown  no\n",
              "3   47   blue-collar  married    unknown  ...    -1         0  unknown  no\n",
              "4   33       unknown   single    unknown  ...    -1         0  unknown  no\n",
              "\n",
              "[5 rows x 17 columns]"
            ]
          },
          "metadata": {
            "tags": []
          },
          "execution_count": 113
        }
      ]
    },
    {
      "cell_type": "markdown",
      "metadata": {
        "id": "83OB5yrqEO4n",
        "colab_type": "text"
      },
      "source": [
        "# 1 - Qual profissão tem mais tendência a fazer um empréstimo? De qual tipo?\n",
        "\n",
        "\n",
        "\n"
      ]
    },
    {
      "cell_type": "code",
      "metadata": {
        "id": "p2E30JREENoq",
        "colab_type": "code",
        "outputId": "676ba73e-a986-432a-dd3e-4af6623d4c5a",
        "colab": {
          "base_uri": "https://localhost:8080/",
          "height": 517
        }
      },
      "source": [
        "sns.set(style=\"darkgrid\")\n",
        "sns.set(rc={'figure.figsize':(20.7,8.27)})\n",
        "ax = sns.countplot(x=\"job\", hue=\"y\", data=bank_data)"
      ],
      "execution_count": 0,
      "outputs": [
        {
          "output_type": "display_data",
          "data": {
            "image/png": "[encoded data removed]",
            "text/plain": [
              "<Figure size 1490.4x595.44 with 1 Axes>"
            ]
          },
          "metadata": {
            "tags": []
          }
        }
      ]
    },
    {
      "cell_type": "code",
      "metadata": {
        "id": "BWlW1PLqBZUe",
        "colab_type": "code",
        "outputId": "f6642327-02aa-4839-c513-56bdb249efa9",
        "colab": {
          "base_uri": "https://localhost:8080/",
          "height": 36
        }
      },
      "source": [
        "LOANS = 0\n",
        "for loan, worker in zip(bank_data['y'], bank_data['job']):\n",
        "  if loan == 'yes' and worker == 'management':\n",
        "    LOANS += 1\n",
        "\n",
        "print(LOANS)"
      ],
      "execution_count": 0,
      "outputs": [
        {
          "output_type": "stream",
          "text": [
            "1301\n"
          ],
          "name": "stdout"
        }
      ]
    },
    {
      "cell_type": "code",
      "metadata": {
        "id": "7unnat09iZHM",
        "colab_type": "code",
        "colab": {}
      },
      "source": [
        "bool_mask_loans = [bank_data['y'] == 'yes']\n",
        "mask_loans = np.array(bool_mask_loans)*1"
      ],
      "execution_count": 0,
      "outputs": []
    },
    {
      "cell_type": "code",
      "metadata": {
        "id": "qeasobxkjU1d",
        "colab_type": "code",
        "outputId": "e356da5e-b3a0-4900-e1a0-e65946d62d1c",
        "colab": {
          "base_uri": "https://localhost:8080/",
          "height": 54
        }
      },
      "source": [
        "total_loans = np.sum(mask_loans)\n",
        "print(total_loans)\n",
        "print(LOANS/total_loans)"
      ],
      "execution_count": 0,
      "outputs": [
        {
          "output_type": "stream",
          "text": [
            "5289\n",
            "0.2459822272641331\n"
          ],
          "name": "stdout"
        }
      ]
    },
    {
      "cell_type": "markdown",
      "metadata": {
        "id": "g-dhwbrOiCOO",
        "colab_type": "text"
      },
      "source": [
        "## 1 - Resposta\n",
        "É possível perceber pelo histograma ponderado pela resposta ao empréstimo que os trabalhadores da classe *Manegement* são os que mais realizam empréstimos. Analíticamente, eles realizam 1301 do total de 5289 realizados, aproximdamente $24.60\\%$ dos empréstimos."
      ]
    },
    {
      "cell_type": "markdown",
      "metadata": {
        "id": "_d9lsmjqlKQg",
        "colab_type": "text"
      },
      "source": [
        "# 2 - Fazendo uma relação entre número de contatos e sucesso da campanha quais são os pontos relevantes a serem observados?"
      ]
    },
    {
      "cell_type": "code",
      "metadata": {
        "id": "i00QiDoO0PF7",
        "colab_type": "code",
        "outputId": "e484345c-0162-451e-c43c-2bca53ca24c9",
        "colab": {
          "base_uri": "https://localhost:8080/",
          "height": 517
        }
      },
      "source": [
        "ax = sns.countplot(x=\"marital\", hue=\"y\", data=bank_data)"
      ],
      "execution_count": 0,
      "outputs": [
        {
          "output_type": "display_data",
          "data": {
            "image/png": "[encoded data removed]",
            "text/plain": [
              "<Figure size 1490.4x595.44 with 1 Axes>"
            ]
          },
          "metadata": {
            "tags": []
          }
        }
      ]
    },
    {
      "cell_type": "markdown",
      "metadata": {
        "id": "H2t44UFGTDvh",
        "colab_type": "text"
      },
      "source": [
        "É possível notar que, proporcionalmente, os solteiros aderem mais aos empréstimos que os casados, entretanto, graficamente não há como mensurar tal representatividade. A falta de escala impede a análise dos divorciados também. Por isso, para o caso acima e para os subsequentes, analisaremos as porcentagens."
      ]
    },
    {
      "cell_type": "code",
      "metadata": {
        "id": "u24RAiImyRAy",
        "colab_type": "code",
        "colab": {}
      },
      "source": [
        "def PercentileCalc(feature, feature_name):\n",
        "  TOTAL = 45211\n",
        "  feature = bank_data[feature_name]\n",
        "  feature = np.reshape(np.array(feature), (-1,1))\n",
        "\n",
        "  LE = LabelEncoder()\n",
        "  LE.fit(feature)\n",
        "  LE_feature = LE.fit_transform(feature)\n",
        "\n",
        "  OH_encoder = OneHotEncoder(handle_unknown='ignore', sparse=False)\n",
        "  feature_OH = OH_encoder.fit_transform(np.reshape(LE_feature, (-1,1)))\n",
        "\n",
        "  classes = list(LE.classes_)\n",
        "\n",
        "\n",
        "  feature_masked = feature_OH[bool_mask_loans]\n",
        "  feature_sum = np.sum(feature_masked, axis=0)/TOTAL\n",
        "\n",
        "  normalized_sum = feature_sum/feature_sum.sum()\n",
        "  \n",
        "  dictionary = dict(zip(classes, normalized_sum.T))\n",
        "  return(dictionary)\n"
      ],
      "execution_count": 0,
      "outputs": []
    },
    {
      "cell_type": "code",
      "metadata": {
        "id": "rco4OeXxJAck",
        "colab_type": "code",
        "colab": {}
      },
      "source": [
        "def PlotDict(dictionary, feature_name):\n",
        "  plt.bar(range(len(dictionary)), list(dictionary.values()), align='center')\n",
        "  plt.xlabel(feature_name)\n",
        "  plt.xticks(range(len(dictionary)), list(dictionary.keys()))\n",
        "  plt.show()"
      ],
      "execution_count": 0,
      "outputs": []
    },
    {
      "cell_type": "code",
      "metadata": {
        "id": "3Gad3Ia_FT5f",
        "colab_type": "code",
        "outputId": "ebded730-e112-4fa9-8cdf-90ec451eb09d",
        "colab": {
          "base_uri": "https://localhost:8080/",
          "height": 649
        }
      },
      "source": [
        "marital_dict = PercentileCalc(bank_data['marital'], 'marital')\n",
        "PlotDict(marital_dict, 'marital')"
      ],
      "execution_count": 0,
      "outputs": [
        {
          "output_type": "stream",
          "text": [
            "/usr/local/lib/python3.6/dist-packages/sklearn/preprocessing/label.py:219: DataConversionWarning: A column-vector y was passed when a 1d array was expected. Please change the shape of y to (n_samples, ), for example using ravel().\n",
            "  y = column_or_1d(y, warn=True)\n",
            "/usr/local/lib/python3.6/dist-packages/sklearn/preprocessing/label.py:235: DataConversionWarning: A column-vector y was passed when a 1d array was expected. Please change the shape of y to (n_samples, ), for example using ravel().\n",
            "  y = column_or_1d(y, warn=True)\n",
            "/usr/local/lib/python3.6/dist-packages/ipykernel_launcher.py:16: FutureWarning: Using a non-tuple sequence for multidimensional indexing is deprecated; use `arr[tuple(seq)]` instead of `arr[seq]`. In the future this will be interpreted as an array index, `arr[np.array(seq)]`, which will result either in an error or a different result.\n",
            "  app.launch_new_instance()\n"
          ],
          "name": "stderr"
        },
        {
          "output_type": "display_data",
          "data": {
            "image/png": "[encoded data removed]",
            "text/plain": [
              "<Figure size 1490.4x595.44 with 1 Axes>"
            ]
          },
          "metadata": {
            "tags": []
          }
        }
      ]
    },
    {
      "cell_type": "code",
      "metadata": {
        "id": "xKYYNScZTiNF",
        "colab_type": "code",
        "outputId": "481dec5e-bbb8-4cfa-c1f7-a43dab5d5a40",
        "colab": {
          "base_uri": "https://localhost:8080/",
          "height": 649
        }
      },
      "source": [
        "month_dict = PercentileCalc(bank_data['month'], 'month')\n",
        "PlotDict(month_dict, 'month')"
      ],
      "execution_count": 0,
      "outputs": [
        {
          "output_type": "stream",
          "text": [
            "/usr/local/lib/python3.6/dist-packages/sklearn/preprocessing/label.py:219: DataConversionWarning: A column-vector y was passed when a 1d array was expected. Please change the shape of y to (n_samples, ), for example using ravel().\n",
            "  y = column_or_1d(y, warn=True)\n",
            "/usr/local/lib/python3.6/dist-packages/sklearn/preprocessing/label.py:235: DataConversionWarning: A column-vector y was passed when a 1d array was expected. Please change the shape of y to (n_samples, ), for example using ravel().\n",
            "  y = column_or_1d(y, warn=True)\n",
            "/usr/local/lib/python3.6/dist-packages/ipykernel_launcher.py:16: FutureWarning: Using a non-tuple sequence for multidimensional indexing is deprecated; use `arr[tuple(seq)]` instead of `arr[seq]`. In the future this will be interpreted as an array index, `arr[np.array(seq)]`, which will result either in an error or a different result.\n",
            "  app.launch_new_instance()\n"
          ],
          "name": "stderr"
        },
        {
          "output_type": "display_data",
          "data": {
            "image/png": "[encoded data removed]",
            "text/plain": [
              "<Figure size 1490.4x595.44 with 1 Axes>"
            ]
          },
          "metadata": {
            "tags": []
          }
        }
      ]
    },
    {
      "cell_type": "code",
      "metadata": {
        "id": "EN_8d2PoBqW6",
        "colab_type": "code",
        "outputId": "883d694d-a127-4ccd-9284-fa602978c08e",
        "colab": {
          "base_uri": "https://localhost:8080/",
          "height": 649
        }
      },
      "source": [
        "education_dict = PercentileCalc(bank_data['education'], 'education')\n",
        "PlotDict(education_dict, 'education')"
      ],
      "execution_count": 0,
      "outputs": [
        {
          "output_type": "stream",
          "text": [
            "/usr/local/lib/python3.6/dist-packages/sklearn/preprocessing/label.py:219: DataConversionWarning: A column-vector y was passed when a 1d array was expected. Please change the shape of y to (n_samples, ), for example using ravel().\n",
            "  y = column_or_1d(y, warn=True)\n",
            "/usr/local/lib/python3.6/dist-packages/sklearn/preprocessing/label.py:235: DataConversionWarning: A column-vector y was passed when a 1d array was expected. Please change the shape of y to (n_samples, ), for example using ravel().\n",
            "  y = column_or_1d(y, warn=True)\n",
            "/usr/local/lib/python3.6/dist-packages/ipykernel_launcher.py:16: FutureWarning: Using a non-tuple sequence for multidimensional indexing is deprecated; use `arr[tuple(seq)]` instead of `arr[seq]`. In the future this will be interpreted as an array index, `arr[np.array(seq)]`, which will result either in an error or a different result.\n",
            "  app.launch_new_instance()\n"
          ],
          "name": "stderr"
        },
        {
          "output_type": "display_data",
          "data": {
            "image/png": "[encoded data removed]",
            "text/plain": [
              "<Figure size 1490.4x595.44 with 1 Axes>"
            ]
          },
          "metadata": {
            "tags": []
          }
        }
      ]
    },
    {
      "cell_type": "code",
      "metadata": {
        "id": "xER-D7DGJlOj",
        "colab_type": "code",
        "outputId": "8662fcc8-df7b-41f0-bbf9-03c3fbeb298f",
        "colab": {
          "base_uri": "https://localhost:8080/",
          "height": 649
        }
      },
      "source": [
        "default_dict = PercentileCalc(bank_data['default'], 'default')\n",
        "PlotDict(default_dict, 'default')"
      ],
      "execution_count": 0,
      "outputs": [
        {
          "output_type": "stream",
          "text": [
            "/usr/local/lib/python3.6/dist-packages/sklearn/preprocessing/label.py:219: DataConversionWarning: A column-vector y was passed when a 1d array was expected. Please change the shape of y to (n_samples, ), for example using ravel().\n",
            "  y = column_or_1d(y, warn=True)\n",
            "/usr/local/lib/python3.6/dist-packages/sklearn/preprocessing/label.py:235: DataConversionWarning: A column-vector y was passed when a 1d array was expected. Please change the shape of y to (n_samples, ), for example using ravel().\n",
            "  y = column_or_1d(y, warn=True)\n",
            "/usr/local/lib/python3.6/dist-packages/ipykernel_launcher.py:16: FutureWarning: Using a non-tuple sequence for multidimensional indexing is deprecated; use `arr[tuple(seq)]` instead of `arr[seq]`. In the future this will be interpreted as an array index, `arr[np.array(seq)]`, which will result either in an error or a different result.\n",
            "  app.launch_new_instance()\n"
          ],
          "name": "stderr"
        },
        {
          "output_type": "display_data",
          "data": {
            "image/png": "[encoded data removed]",
            "text/plain": [
              "<Figure size 1490.4x595.44 with 1 Axes>"
            ]
          },
          "metadata": {
            "tags": []
          }
        }
      ]
    },
    {
      "cell_type": "code",
      "metadata": {
        "id": "nrA4YZh3JvOM",
        "colab_type": "code",
        "outputId": "f5fdd1a0-1ab0-4222-b670-ddf031711a73",
        "colab": {
          "base_uri": "https://localhost:8080/",
          "height": 649
        }
      },
      "source": [
        "housing_dict = PercentileCalc(bank_data['housing'], 'housing')\n",
        "PlotDict(housing_dict, 'housing')"
      ],
      "execution_count": 0,
      "outputs": [
        {
          "output_type": "stream",
          "text": [
            "/usr/local/lib/python3.6/dist-packages/sklearn/preprocessing/label.py:219: DataConversionWarning: A column-vector y was passed when a 1d array was expected. Please change the shape of y to (n_samples, ), for example using ravel().\n",
            "  y = column_or_1d(y, warn=True)\n",
            "/usr/local/lib/python3.6/dist-packages/sklearn/preprocessing/label.py:235: DataConversionWarning: A column-vector y was passed when a 1d array was expected. Please change the shape of y to (n_samples, ), for example using ravel().\n",
            "  y = column_or_1d(y, warn=True)\n",
            "/usr/local/lib/python3.6/dist-packages/ipykernel_launcher.py:16: FutureWarning: Using a non-tuple sequence for multidimensional indexing is deprecated; use `arr[tuple(seq)]` instead of `arr[seq]`. In the future this will be interpreted as an array index, `arr[np.array(seq)]`, which will result either in an error or a different result.\n",
            "  app.launch_new_instance()\n"
          ],
          "name": "stderr"
        },
        {
          "output_type": "display_data",
          "data": {
            "image/png": "[encoded data removed]",
            "text/plain": [
              "<Figure size 1490.4x595.44 with 1 Axes>"
            ]
          },
          "metadata": {
            "tags": []
          }
        }
      ]
    },
    {
      "cell_type": "code",
      "metadata": {
        "id": "Eh-kRxcAJ5H4",
        "colab_type": "code",
        "outputId": "76abb44e-d4ed-408f-9ff4-f1aae1dd28c0",
        "colab": {
          "base_uri": "https://localhost:8080/",
          "height": 649
        }
      },
      "source": [
        "contact_dict = PercentileCalc(bank_data['contact'], 'contact')\n",
        "PlotDict(contact_dict, 'contact')"
      ],
      "execution_count": 0,
      "outputs": [
        {
          "output_type": "stream",
          "text": [
            "/usr/local/lib/python3.6/dist-packages/sklearn/preprocessing/label.py:219: DataConversionWarning: A column-vector y was passed when a 1d array was expected. Please change the shape of y to (n_samples, ), for example using ravel().\n",
            "  y = column_or_1d(y, warn=True)\n",
            "/usr/local/lib/python3.6/dist-packages/sklearn/preprocessing/label.py:235: DataConversionWarning: A column-vector y was passed when a 1d array was expected. Please change the shape of y to (n_samples, ), for example using ravel().\n",
            "  y = column_or_1d(y, warn=True)\n",
            "/usr/local/lib/python3.6/dist-packages/ipykernel_launcher.py:16: FutureWarning: Using a non-tuple sequence for multidimensional indexing is deprecated; use `arr[tuple(seq)]` instead of `arr[seq]`. In the future this will be interpreted as an array index, `arr[np.array(seq)]`, which will result either in an error or a different result.\n",
            "  app.launch_new_instance()\n"
          ],
          "name": "stderr"
        },
        {
          "output_type": "display_data",
          "data": {
            "image/png": "[encoded data removed]",
            "text/plain": [
              "<Figure size 1490.4x595.44 with 1 Axes>"
            ]
          },
          "metadata": {
            "tags": []
          }
        }
      ]
    },
    {
      "cell_type": "code",
      "metadata": {
        "id": "lslk8SQEJ7SY",
        "colab_type": "code",
        "outputId": "2273377d-c3a9-44bf-8591-efc4c60ca34d",
        "colab": {
          "base_uri": "https://localhost:8080/",
          "height": 649
        }
      },
      "source": [
        "poutcome_dict = PercentileCalc(bank_data['poutcome'], 'poutcome')\n",
        "PlotDict(poutcome_dict, 'poutcome')"
      ],
      "execution_count": 0,
      "outputs": [
        {
          "output_type": "stream",
          "text": [
            "/usr/local/lib/python3.6/dist-packages/sklearn/preprocessing/label.py:219: DataConversionWarning: A column-vector y was passed when a 1d array was expected. Please change the shape of y to (n_samples, ), for example using ravel().\n",
            "  y = column_or_1d(y, warn=True)\n",
            "/usr/local/lib/python3.6/dist-packages/sklearn/preprocessing/label.py:235: DataConversionWarning: A column-vector y was passed when a 1d array was expected. Please change the shape of y to (n_samples, ), for example using ravel().\n",
            "  y = column_or_1d(y, warn=True)\n",
            "/usr/local/lib/python3.6/dist-packages/ipykernel_launcher.py:16: FutureWarning: Using a non-tuple sequence for multidimensional indexing is deprecated; use `arr[tuple(seq)]` instead of `arr[seq]`. In the future this will be interpreted as an array index, `arr[np.array(seq)]`, which will result either in an error or a different result.\n",
            "  app.launch_new_instance()\n"
          ],
          "name": "stderr"
        },
        {
          "output_type": "display_data",
          "data": {
            "image/png": "[encoded data removed]",
            "text/plain": [
              "<Figure size 1490.4x595.44 with 1 Axes>"
            ]
          },
          "metadata": {
            "tags": []
          }
        }
      ]
    },
    {
      "cell_type": "code",
      "metadata": {
        "id": "kopZi0aEKLdi",
        "colab_type": "code",
        "outputId": "19b8c5fc-b8f0-4d3d-ff54-424a3da48383",
        "colab": {
          "base_uri": "https://localhost:8080/",
          "height": 649
        }
      },
      "source": [
        "loan_dict = PercentileCalc(bank_data['loan'], 'loan')\n",
        "PlotDict(loan_dict, 'loan')"
      ],
      "execution_count": 0,
      "outputs": [
        {
          "output_type": "stream",
          "text": [
            "/usr/local/lib/python3.6/dist-packages/sklearn/preprocessing/label.py:219: DataConversionWarning: A column-vector y was passed when a 1d array was expected. Please change the shape of y to (n_samples, ), for example using ravel().\n",
            "  y = column_or_1d(y, warn=True)\n",
            "/usr/local/lib/python3.6/dist-packages/sklearn/preprocessing/label.py:235: DataConversionWarning: A column-vector y was passed when a 1d array was expected. Please change the shape of y to (n_samples, ), for example using ravel().\n",
            "  y = column_or_1d(y, warn=True)\n",
            "/usr/local/lib/python3.6/dist-packages/ipykernel_launcher.py:16: FutureWarning: Using a non-tuple sequence for multidimensional indexing is deprecated; use `arr[tuple(seq)]` instead of `arr[seq]`. In the future this will be interpreted as an array index, `arr[np.array(seq)]`, which will result either in an error or a different result.\n",
            "  app.launch_new_instance()\n"
          ],
          "name": "stderr"
        },
        {
          "output_type": "display_data",
          "data": {
            "image/png": "[encoded data removed]",
            "text/plain": [
              "<Figure size 1490.4x595.44 with 1 Axes>"
            ]
          },
          "metadata": {
            "tags": []
          }
        }
      ]
    },
    {
      "cell_type": "code",
      "metadata": {
        "id": "d54fQtCILfgr",
        "colab_type": "code",
        "colab": {}
      },
      "source": [
        "y = bank_data['y']\n",
        "LE = LabelEncoder()\n",
        "LE.fit(y)\n",
        "success = LE.fit_transform(y)\n",
        "bank_data['success'] = success\n"
      ],
      "execution_count": 0,
      "outputs": []
    },
    {
      "cell_type": "code",
      "metadata": {
        "id": "PBjil7XSNuBd",
        "colab_type": "code",
        "outputId": "c80124eb-96c7-4da0-aa91-19260a5d936b",
        "colab": {
          "base_uri": "https://localhost:8080/",
          "height": 301
        }
      },
      "source": [
        "bank_data.corr()"
      ],
      "execution_count": 0,
      "outputs": [
        {
          "output_type": "execute_result",
          "data": {
            "text/html": [
              "<div>\n",
              "<style scoped>\n",
              "    .dataframe tbody tr th:only-of-type {\n",
              "        vertical-align: middle;\n",
              "    }\n",
              "\n",
              "    .dataframe tbody tr th {\n",
              "        vertical-align: top;\n",
              "    }\n",
              "\n",
              "    .dataframe thead th {\n",
              "        text-align: right;\n",
              "    }\n",
              "</style>\n",
              "<table border=\"1\" class=\"dataframe\">\n",
              "  <thead>\n",
              "    <tr style=\"text-align: right;\">\n",
              "      <th></th>\n",
              "      <th>age</th>\n",
              "      <th>balance</th>\n",
              "      <th>day</th>\n",
              "      <th>duration</th>\n",
              "      <th>campaign</th>\n",
              "      <th>pdays</th>\n",
              "      <th>previous</th>\n",
              "      <th>success</th>\n",
              "    </tr>\n",
              "  </thead>\n",
              "  <tbody>\n",
              "    <tr>\n",
              "      <th>age</th>\n",
              "      <td>1.000000</td>\n",
              "      <td>0.097783</td>\n",
              "      <td>-0.009120</td>\n",
              "      <td>-0.004648</td>\n",
              "      <td>0.004760</td>\n",
              "      <td>-0.023758</td>\n",
              "      <td>0.001288</td>\n",
              "      <td>0.025155</td>\n",
              "    </tr>\n",
              "    <tr>\n",
              "      <th>balance</th>\n",
              "      <td>0.097783</td>\n",
              "      <td>1.000000</td>\n",
              "      <td>0.004503</td>\n",
              "      <td>0.021560</td>\n",
              "      <td>-0.014578</td>\n",
              "      <td>0.003435</td>\n",
              "      <td>0.016674</td>\n",
              "      <td>0.052838</td>\n",
              "    </tr>\n",
              "    <tr>\n",
              "      <th>day</th>\n",
              "      <td>-0.009120</td>\n",
              "      <td>0.004503</td>\n",
              "      <td>1.000000</td>\n",
              "      <td>-0.030206</td>\n",
              "      <td>0.162490</td>\n",
              "      <td>-0.093044</td>\n",
              "      <td>-0.051710</td>\n",
              "      <td>-0.028348</td>\n",
              "    </tr>\n",
              "    <tr>\n",
              "      <th>duration</th>\n",
              "      <td>-0.004648</td>\n",
              "      <td>0.021560</td>\n",
              "      <td>-0.030206</td>\n",
              "      <td>1.000000</td>\n",
              "      <td>-0.084570</td>\n",
              "      <td>-0.001565</td>\n",
              "      <td>0.001203</td>\n",
              "      <td>0.394521</td>\n",
              "    </tr>\n",
              "    <tr>\n",
              "      <th>campaign</th>\n",
              "      <td>0.004760</td>\n",
              "      <td>-0.014578</td>\n",
              "      <td>0.162490</td>\n",
              "      <td>-0.084570</td>\n",
              "      <td>1.000000</td>\n",
              "      <td>-0.088628</td>\n",
              "      <td>-0.032855</td>\n",
              "      <td>-0.073172</td>\n",
              "    </tr>\n",
              "    <tr>\n",
              "      <th>pdays</th>\n",
              "      <td>-0.023758</td>\n",
              "      <td>0.003435</td>\n",
              "      <td>-0.093044</td>\n",
              "      <td>-0.001565</td>\n",
              "      <td>-0.088628</td>\n",
              "      <td>1.000000</td>\n",
              "      <td>0.454820</td>\n",
              "      <td>0.103621</td>\n",
              "    </tr>\n",
              "    <tr>\n",
              "      <th>previous</th>\n",
              "      <td>0.001288</td>\n",
              "      <td>0.016674</td>\n",
              "      <td>-0.051710</td>\n",
              "      <td>0.001203</td>\n",
              "      <td>-0.032855</td>\n",
              "      <td>0.454820</td>\n",
              "      <td>1.000000</td>\n",
              "      <td>0.093236</td>\n",
              "    </tr>\n",
              "    <tr>\n",
              "      <th>success</th>\n",
              "      <td>0.025155</td>\n",
              "      <td>0.052838</td>\n",
              "      <td>-0.028348</td>\n",
              "      <td>0.394521</td>\n",
              "      <td>-0.073172</td>\n",
              "      <td>0.103621</td>\n",
              "      <td>0.093236</td>\n",
              "      <td>1.000000</td>\n",
              "    </tr>\n",
              "  </tbody>\n",
              "</table>\n",
              "</div>"
            ],
            "text/plain": [
              "               age   balance       day  ...     pdays  previous   success\n",
              "age       1.000000  0.097783 -0.009120  ... -0.023758  0.001288  0.025155\n",
              "balance   0.097783  1.000000  0.004503  ...  0.003435  0.016674  0.052838\n",
              "day      -0.009120  0.004503  1.000000  ... -0.093044 -0.051710 -0.028348\n",
              "duration -0.004648  0.021560 -0.030206  ... -0.001565  0.001203  0.394521\n",
              "campaign  0.004760 -0.014578  0.162490  ... -0.088628 -0.032855 -0.073172\n",
              "pdays    -0.023758  0.003435 -0.093044  ...  1.000000  0.454820  0.103621\n",
              "previous  0.001288  0.016674 -0.051710  ...  0.454820  1.000000  0.093236\n",
              "success   0.025155  0.052838 -0.028348  ...  0.103621  0.093236  1.000000\n",
              "\n",
              "[8 rows x 8 columns]"
            ]
          },
          "metadata": {
            "tags": []
          },
          "execution_count": 130
        }
      ]
    },
    {
      "cell_type": "markdown",
      "metadata": {
        "id": "n0EtOleON4NW",
        "colab_type": "text"
      },
      "source": [
        "## 2 - Resposta\n",
        "Podemos ver, através da análise gráfica e pelos dados de correlação expostos na tabela acima que alguns dados são muito mais relevantes para que o alvo da campanha seja um sucesso. Observe, por exemplo, a correlação entre a duração das chamadas e a resposta do cliente. Vemos também que a maioria esmagadora dos clientes que atenderam à campanha não tinham um empréstimo pessoal, foram contactados por telefone celular, não possuía crédito e eram solteiros ou casados. Muitos destes dados indicam o perfil dos clientes que são alvos de uma campanha bem sucedida de empréstimos. \n",
        "O perfil é de pessoas que não têm tanto dinheiro em caixa, vemos pela ausência de crédito, apesar do vencimento anual não ser uma variável preponderante, uma vez que a correlação da coluna *balance* com *LE_y* ser quase nula, demonstrando que os clientes que acatam a oferta de empréstimo não ganham pouco, mas administram mal seus bens.\n",
        "Um possível nível de desinformação, veja pelo nível de escolaridade de quem tomou o empréstimo. \n",
        "Além da situação financeira e pessoal de cada cliente, vemos o impacto da duração das chamadas como sendo um fator impactante, além do fato de o cliente não possuir empréstimo e/ou crédito anteriormente, ser quase definidor. "
      ]
    },
    {
      "cell_type": "markdown",
      "metadata": {
        "id": "0akV6bs3Voqc",
        "colab_type": "text"
      },
      "source": [
        "# 3 - Baseando-se nos resultados de adesão desta campanha qual o número médio e o máximo de ligações que você indica para otimizar a adesão?"
      ]
    },
    {
      "cell_type": "code",
      "metadata": {
        "id": "tregUwLmNy-g",
        "colab_type": "code",
        "outputId": "2f38e00c-1b0c-485d-fd47-005d4b843331",
        "colab": {
          "base_uri": "https://localhost:8080/",
          "height": 518
        }
      },
      "source": [
        "ax = sns.countplot(x=\"previous\", hue=\"y\", data=bank_data)"
      ],
      "execution_count": 0,
      "outputs": [
        {
          "output_type": "display_data",
          "data": {
            "image/png": "[encoded data removed]",
            "text/plain": [
              "<Figure size 1490.4x595.44 with 1 Axes>"
            ]
          },
          "metadata": {
            "tags": []
          }
        }
      ]
    },
    {
      "cell_type": "code",
      "metadata": {
        "id": "vspzbr2eWTKs",
        "colab_type": "code",
        "outputId": "1e7718a9-b5cf-4f0d-89c5-61154cdf825c",
        "colab": {
          "base_uri": "https://localhost:8080/",
          "height": 649
        }
      },
      "source": [
        "previous_dict = PercentileCalc(bank_data['previous'], 'previous')\n",
        "PlotDict(previous_dict, 'previous')"
      ],
      "execution_count": 0,
      "outputs": [
        {
          "output_type": "stream",
          "text": [
            "/usr/local/lib/python3.6/dist-packages/sklearn/preprocessing/label.py:219: DataConversionWarning: A column-vector y was passed when a 1d array was expected. Please change the shape of y to (n_samples, ), for example using ravel().\n",
            "  y = column_or_1d(y, warn=True)\n",
            "/usr/local/lib/python3.6/dist-packages/sklearn/preprocessing/label.py:235: DataConversionWarning: A column-vector y was passed when a 1d array was expected. Please change the shape of y to (n_samples, ), for example using ravel().\n",
            "  y = column_or_1d(y, warn=True)\n",
            "/usr/local/lib/python3.6/dist-packages/ipykernel_launcher.py:16: FutureWarning: Using a non-tuple sequence for multidimensional indexing is deprecated; use `arr[tuple(seq)]` instead of `arr[seq]`. In the future this will be interpreted as an array index, `arr[np.array(seq)]`, which will result either in an error or a different result.\n",
            "  app.launch_new_instance()\n"
          ],
          "name": "stderr"
        },
        {
          "output_type": "display_data",
          "data": {
            "image/png": "[encoded data removed]",
            "text/plain": [
              "<Figure size 1490.4x595.44 with 1 Axes>"
            ]
          },
          "metadata": {
            "tags": []
          }
        }
      ]
    },
    {
      "cell_type": "code",
      "metadata": {
        "id": "dp7Lqb8yWqQw",
        "colab_type": "code",
        "outputId": "9456d470-38d8-438d-cf85-6bc10b7ebb67",
        "colab": {
          "base_uri": "https://localhost:8080/",
          "height": 56
        }
      },
      "source": [
        "print(previous_dict)"
      ],
      "execution_count": 0,
      "outputs": [
        {
          "output_type": "stream",
          "text": [
            "{0: 0.6398184912081679, 1: 0.11022877670637171, 2: 0.08621667612024958, 3: 0.055587067498581964, 4: 0.03233125354509359, 5: 0.02287767063717149, 6: 0.015692947627150688, 7: 0.01020986954055587, 8: 0.00737379466817924, 9: 0.004537719795802609, 10: 0.004915863112119494, 11: 0.0028360748723766306, 12: 0.0018907165815844206, 13: 0.0017016449234259785, 14: 0.0009453582907922103, 15: 0.00018907165815844205, 16: 0.0, 17: 0.0005672149744753261, 18: 0.0, 19: 0.0003781433163168841, 20: 0.00018907165815844205, 21: 0.00018907165815844205, 22: 0.00018907165815844205, 23: 0.00018907165815844205, 24: 0.0, 25: 0.0, 26: 0.00018907165815844205, 27: 0.0, 28: 0.0, 29: 0.00018907165815844205, 30: 0.00018907165815844205, 32: 0.0, 35: 0.0, 37: 0.0, 38: 0.0, 40: 0.0, 41: 0.0, 51: 0.0, 55: 0.00018907165815844205, 58: 0.00018907165815844205, 275: 0.0}\n"
          ],
          "name": "stdout"
        }
      ]
    },
    {
      "cell_type": "markdown",
      "metadata": {
        "id": "ruPA-ldvWlt7",
        "colab_type": "text"
      },
      "source": [
        "## 3 - Resposta\n",
        "Graficamente e analíticamente, visto no *print* do dicionário *previous_data*, apenas $5\\%$ dos contactados cederam à proposta na terceira ligação, sendo as ligações subsequentes com menos eficiência, quase inexpressivas. Assim sendo, eu colocaria o número médio de ligações para três e o número máximo para 5, visto que, com 3 ligações foram contemplados mais de $88\\%$ dos que efetivaram o empréstimo, enquanto que, após a quinta ligação, restam menos de $7\\%$ dos possíveis clientes. É mais efetivo redirecionar o funcionário que insistiria em um cliente que recusou várias ligações para um novo possível cliente."
      ]
    },
    {
      "cell_type": "markdown",
      "metadata": {
        "id": "x0pWP6AkYLeC",
        "colab_type": "text"
      },
      "source": [
        "# 4 - O resultado da campanha anterior tem relevância na campanha atual?"
      ]
    },
    {
      "cell_type": "code",
      "metadata": {
        "id": "rO0WvBksY0gK",
        "colab_type": "code",
        "outputId": "ff548585-7e2c-4399-c061-9ce1aa091318",
        "colab": {
          "base_uri": "https://localhost:8080/",
          "height": 301
        }
      },
      "source": [
        "bank_data.corr()"
      ],
      "execution_count": 0,
      "outputs": [
        {
          "output_type": "execute_result",
          "data": {
            "text/html": [
              "<div>\n",
              "<style scoped>\n",
              "    .dataframe tbody tr th:only-of-type {\n",
              "        vertical-align: middle;\n",
              "    }\n",
              "\n",
              "    .dataframe tbody tr th {\n",
              "        vertical-align: top;\n",
              "    }\n",
              "\n",
              "    .dataframe thead th {\n",
              "        text-align: right;\n",
              "    }\n",
              "</style>\n",
              "<table border=\"1\" class=\"dataframe\">\n",
              "  <thead>\n",
              "    <tr style=\"text-align: right;\">\n",
              "      <th></th>\n",
              "      <th>age</th>\n",
              "      <th>balance</th>\n",
              "      <th>day</th>\n",
              "      <th>duration</th>\n",
              "      <th>campaign</th>\n",
              "      <th>pdays</th>\n",
              "      <th>previous</th>\n",
              "      <th>success</th>\n",
              "    </tr>\n",
              "  </thead>\n",
              "  <tbody>\n",
              "    <tr>\n",
              "      <th>age</th>\n",
              "      <td>1.000000</td>\n",
              "      <td>0.097783</td>\n",
              "      <td>-0.009120</td>\n",
              "      <td>-0.004648</td>\n",
              "      <td>0.004760</td>\n",
              "      <td>-0.023758</td>\n",
              "      <td>0.001288</td>\n",
              "      <td>0.025155</td>\n",
              "    </tr>\n",
              "    <tr>\n",
              "      <th>balance</th>\n",
              "      <td>0.097783</td>\n",
              "      <td>1.000000</td>\n",
              "      <td>0.004503</td>\n",
              "      <td>0.021560</td>\n",
              "      <td>-0.014578</td>\n",
              "      <td>0.003435</td>\n",
              "      <td>0.016674</td>\n",
              "      <td>0.052838</td>\n",
              "    </tr>\n",
              "    <tr>\n",
              "      <th>day</th>\n",
              "      <td>-0.009120</td>\n",
              "      <td>0.004503</td>\n",
              "      <td>1.000000</td>\n",
              "      <td>-0.030206</td>\n",
              "      <td>0.162490</td>\n",
              "      <td>-0.093044</td>\n",
              "      <td>-0.051710</td>\n",
              "      <td>-0.028348</td>\n",
              "    </tr>\n",
              "    <tr>\n",
              "      <th>duration</th>\n",
              "      <td>-0.004648</td>\n",
              "      <td>0.021560</td>\n",
              "      <td>-0.030206</td>\n",
              "      <td>1.000000</td>\n",
              "      <td>-0.084570</td>\n",
              "      <td>-0.001565</td>\n",
              "      <td>0.001203</td>\n",
              "      <td>0.394521</td>\n",
              "    </tr>\n",
              "    <tr>\n",
              "      <th>campaign</th>\n",
              "      <td>0.004760</td>\n",
              "      <td>-0.014578</td>\n",
              "      <td>0.162490</td>\n",
              "      <td>-0.084570</td>\n",
              "      <td>1.000000</td>\n",
              "      <td>-0.088628</td>\n",
              "      <td>-0.032855</td>\n",
              "      <td>-0.073172</td>\n",
              "    </tr>\n",
              "    <tr>\n",
              "      <th>pdays</th>\n",
              "      <td>-0.023758</td>\n",
              "      <td>0.003435</td>\n",
              "      <td>-0.093044</td>\n",
              "      <td>-0.001565</td>\n",
              "      <td>-0.088628</td>\n",
              "      <td>1.000000</td>\n",
              "      <td>0.454820</td>\n",
              "      <td>0.103621</td>\n",
              "    </tr>\n",
              "    <tr>\n",
              "      <th>previous</th>\n",
              "      <td>0.001288</td>\n",
              "      <td>0.016674</td>\n",
              "      <td>-0.051710</td>\n",
              "      <td>0.001203</td>\n",
              "      <td>-0.032855</td>\n",
              "      <td>0.454820</td>\n",
              "      <td>1.000000</td>\n",
              "      <td>0.093236</td>\n",
              "    </tr>\n",
              "    <tr>\n",
              "      <th>success</th>\n",
              "      <td>0.025155</td>\n",
              "      <td>0.052838</td>\n",
              "      <td>-0.028348</td>\n",
              "      <td>0.394521</td>\n",
              "      <td>-0.073172</td>\n",
              "      <td>0.103621</td>\n",
              "      <td>0.093236</td>\n",
              "      <td>1.000000</td>\n",
              "    </tr>\n",
              "  </tbody>\n",
              "</table>\n",
              "</div>"
            ],
            "text/plain": [
              "               age   balance       day  ...     pdays  previous   success\n",
              "age       1.000000  0.097783 -0.009120  ... -0.023758  0.001288  0.025155\n",
              "balance   0.097783  1.000000  0.004503  ...  0.003435  0.016674  0.052838\n",
              "day      -0.009120  0.004503  1.000000  ... -0.093044 -0.051710 -0.028348\n",
              "duration -0.004648  0.021560 -0.030206  ... -0.001565  0.001203  0.394521\n",
              "campaign  0.004760 -0.014578  0.162490  ... -0.088628 -0.032855 -0.073172\n",
              "pdays    -0.023758  0.003435 -0.093044  ...  1.000000  0.454820  0.103621\n",
              "previous  0.001288  0.016674 -0.051710  ...  0.454820  1.000000  0.093236\n",
              "success   0.025155  0.052838 -0.028348  ...  0.103621  0.093236  1.000000\n",
              "\n",
              "[8 rows x 8 columns]"
            ]
          },
          "metadata": {
            "tags": []
          },
          "execution_count": 134
        }
      ]
    },
    {
      "cell_type": "markdown",
      "metadata": {
        "id": "xB6wLAA0YQXQ",
        "colab_type": "text"
      },
      "source": [
        "## 4 - Resposta\n",
        "Essencialmente não tem, voltando à matriz de correlação, veja novamente o plot acima, temos que o índice de correlação entre os contatos da campanha passada e o sucesso desta é muito próximo de 0, sendo, inclusive, negativo. Isso indica que os dados não tem uma correlação forte, e, se tiverem, não é uma correlação que ajuda o objetivo do banco, uma vez que a correlação é negativa.  "
      ]
    },
    {
      "cell_type": "markdown",
      "metadata": {
        "id": "RVYrQ811Q7NR",
        "colab_type": "text"
      },
      "source": [
        "# 5 - Qual o fator determinante para que o banco exija um seguro de crédito?"
      ]
    },
    {
      "cell_type": "code",
      "metadata": {
        "id": "GTL-BC2BWlWs",
        "colab_type": "code",
        "outputId": "856875f3-911c-45b8-b987-851252f1b726",
        "colab": {
          "base_uri": "https://localhost:8080/",
          "height": 517
        }
      },
      "source": [
        "# housing plot\n",
        "PlotDict(housing_dict, 'hpusing')"
      ],
      "execution_count": 0,
      "outputs": [
        {
          "output_type": "display_data",
          "data": {
            "image/png": "[encoded data removed]",
            "text/plain": [
              "<Figure size 1490.4x595.44 with 1 Axes>"
            ]
          },
          "metadata": {
            "tags": []
          }
        }
      ]
    },
    {
      "cell_type": "code",
      "metadata": {
        "id": "_eN9QzkDWt00",
        "colab_type": "code",
        "outputId": "58168cb2-916d-420d-97b4-23c325fe836c",
        "colab": {
          "base_uri": "https://localhost:8080/",
          "height": 517
        }
      },
      "source": [
        "# credit default plot\n",
        "PlotDict(default_dict, 'default')"
      ],
      "execution_count": 0,
      "outputs": [
        {
          "output_type": "display_data",
          "data": {
            "image/png": "[encoded data removed]",
            "text/plain": [
              "<Figure size 1490.4x595.44 with 1 Axes>"
            ]
          },
          "metadata": {
            "tags": []
          }
        }
      ]
    },
    {
      "cell_type": "markdown",
      "metadata": {
        "id": "-MelbvXiVH7r",
        "colab_type": "text"
      },
      "source": [
        "## 5 - Resposta\n",
        "O critério óbvio e imediato é o histórico de inadimplência do cliente, visto na coluna *default*, que descreve se há Incumprimento de Crédito por parte do cliente. Além disso, sabendo os vencimentos totais do cliente, é possível prever alguma inadimplência a depender do valor do empréstimo. Apesar da falta de correlação entre o venciemnto anual e a necessidade do empréstimo, discutida em item anterior, é razoável que se observe isso antes do seguro de crédito.\n",
        "Além disso, observar se há algum tipo de empréstimo relacionado à moradia, como descrito em *housing*, porque em caso de inadimplência, o imóvel pode ser tomado como um bem. No caso de haver um empréstimo à habitação, tal bem não está disponível. Ambos seriam os casos que responderam '*yes*'."
      ]
    },
    {
      "cell_type": "markdown",
      "metadata": {
        "id": "Fk-88kdZXCfL",
        "colab_type": "text"
      },
      "source": [
        "# 6 - Quais são as características mais proeminentes de um cliente que possua empréstimo imobiliário?"
      ]
    },
    {
      "cell_type": "code",
      "metadata": {
        "id": "yQZDHtzAXe8q",
        "colab_type": "code",
        "outputId": "98f8b02a-234c-4c3b-fa70-32a57ef5f301",
        "colab": {
          "base_uri": "https://localhost:8080/",
          "height": 36
        }
      },
      "source": [
        "housing_mask = [ans for ans in bank_data['housing'] == 'yes']\n",
        "bank_housing_weighted = bank_data[housing_mask]\n",
        "bank_housing_weighted.shape"
      ],
      "execution_count": 0,
      "outputs": [
        {
          "output_type": "execute_result",
          "data": {
            "text/plain": [
              "(25130, 18)"
            ]
          },
          "metadata": {
            "tags": []
          },
          "execution_count": 137
        }
      ]
    },
    {
      "cell_type": "code",
      "metadata": {
        "id": "KixI-0cHdXO7",
        "colab_type": "code",
        "outputId": "17cc9ba5-595c-4957-9231-25f0c8ed6b4d",
        "colab": {
          "base_uri": "https://localhost:8080/",
          "height": 36
        }
      },
      "source": [
        "housing_and_target_mask = [ans for ans in bank_housing_weighted['y'] == 'yes']\n",
        "housing_and_target = bank_housing_weighted[housing_and_target_mask]\n",
        "housing_and_target.shape"
      ],
      "execution_count": 0,
      "outputs": [
        {
          "output_type": "execute_result",
          "data": {
            "text/plain": [
              "(1935, 18)"
            ]
          },
          "metadata": {
            "tags": []
          },
          "execution_count": 138
        }
      ]
    },
    {
      "cell_type": "code",
      "metadata": {
        "id": "QnsRfqpvX67s",
        "colab_type": "code",
        "outputId": "61e813d2-3871-472f-f3b6-cee90eea2e6f",
        "colab": {
          "base_uri": "https://localhost:8080/",
          "height": 36
        }
      },
      "source": [
        "default_mask = [ans for ans in bank_data['default'] == 'yes']\n",
        "bank_default_weighted = bank_data[default_mask]\n",
        "bank_default_weighted.shape"
      ],
      "execution_count": 0,
      "outputs": [
        {
          "output_type": "execute_result",
          "data": {
            "text/plain": [
              "(815, 18)"
            ]
          },
          "metadata": {
            "tags": []
          },
          "execution_count": 139
        }
      ]
    },
    {
      "cell_type": "code",
      "metadata": {
        "id": "xMEeFkRNYM4w",
        "colab_type": "code",
        "outputId": "d9a127fe-1e55-467b-d9d3-eaa6ddb9a06b",
        "colab": {
          "base_uri": "https://localhost:8080/",
          "height": 36
        }
      },
      "source": [
        "default_and_target_mask = [ans for ans in bank_default_weighted['y'] == 'yes']\n",
        "default_and_target = bank_default_weighted[default_and_target_mask]\n",
        "default_and_target.shape"
      ],
      "execution_count": 0,
      "outputs": [
        {
          "output_type": "execute_result",
          "data": {
            "text/plain": [
              "(52, 18)"
            ]
          },
          "metadata": {
            "tags": []
          },
          "execution_count": 140
        }
      ]
    },
    {
      "cell_type": "markdown",
      "metadata": {
        "id": "CBnC8Ab0aliP",
        "colab_type": "text"
      },
      "source": [
        "## 6 - Resposta\n",
        "Como dito antes, percebemos alguns padrões que podem ser aprofundados. Veja acima que 25130 pessoas possuem empréstimo à habitação, entretanto, estes são minoria dentre os que aceitam o empréstimo novo, 1935 precisamente, mostrando que pessoas que já possume um empréstimo em curso, estão mais propensas à recusar um novo empréstimo. \n",
        "Da mesma forma, pessoas que possuem crédito incumprido se mostram menos responsivas à campanha de crédito, sendo isso muito preponderante, uma vez que das 815 pessoas que possuem crédito incumprido, apenas 52 responderam positivamente à campanha."
      ]
    }
  ]
}